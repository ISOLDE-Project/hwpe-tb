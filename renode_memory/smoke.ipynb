{
 "cells": [
  {
   "cell_type": "code",
   "execution_count": 1,
   "metadata": {},
   "outputs": [],
   "source": [
    "import numpy as np"
   ]
  },
  {
   "cell_type": "code",
   "execution_count": 2,
   "metadata": {},
   "outputs": [],
   "source": [
    "def convert_address(addr):\n",
    "    ROM_ORIGIN=0#0x1000\n",
    "    addr=addr-ROM_ORIGIN\n",
    "    return addr>>2\n",
    "\n",
    "def read_ndarray(mem_phy, addr, shape, dtype=np.single):\n",
    "    index_start = convert_address(addr)\n",
    "    index_end = index_start + shape[0]*shape[1]*shape[2]*shape[3]\n",
    "    #The result includes the start index but excludes the end index.\n",
    "    tmp_buffer = mem_phy[index_start:index_end].tobytes()\n",
    "    result = np.ndarray(shape, dtype=dtype, buffer=tmp_buffer)\n",
    "    return result\n",
    "\n",
    "def readActualData(varName, shape):\n",
    "    global memory_map\n",
    "    global mem_phy\n",
    "    addr = memory_map[varName]\n",
    "    data = read_ndarray(mem_phy, addr, shape)\n",
    "    return data"
   ]
  },
  {
   "cell_type": "code",
   "execution_count": 3,
   "metadata": {},
   "outputs": [
    {
     "data": {
      "text/plain": [
       "array([[[[ 1.4349296e-42,  0.0000000e+00,  3.9096227e-43,\n",
       "           2.6677443e-23,  1.1755099e-38,  2.6624671e-44,\n",
       "          -4.2868997e+37,  1.5777542e-39,  1.1862612e-38,\n",
       "           9.4785924e-38,  2.1159607e-43,  1.1314340e-36,\n",
       "          -1.0909570e+38,  1.9996529e-42,  2.1790191e-42,\n",
       "           2.3583853e-42,  2.5377515e-42,  2.7171177e-42,\n",
       "           1.9563376e-35,  1.6114932e-43,  2.6624671e-44,\n",
       "           7.0943655e-38,  4.7438790e-38,  9.4777315e-38,\n",
       "           4.6062082e-41, -1.7147599e+38,  1.1860460e-38,\n",
       "           2.3696481e-38,  1.5554413e-43,  2.2420775e-44,\n",
       "           0.0000000e+00,  7.5742802e-39,  2.3782526e-38,\n",
       "           1.8837235e-40,  3.3631163e-44,  3.3631163e-44,\n",
       "                     nan,  2.2420775e-44,  2.8056947e-29,\n",
       "           5.1812915e+02,  2.8866748e-42,  0.0000000e+00,\n",
       "           7.1746481e-43,  0.0000000e+00,  0.0000000e+00,\n",
       "           0.0000000e+00,  0.0000000e+00,  0.0000000e+00,\n",
       "           0.0000000e+00,  0.0000000e+00,  0.0000000e+00,\n",
       "           0.0000000e+00,  0.0000000e+00,  0.0000000e+00,\n",
       "           0.0000000e+00,  0.0000000e+00,  0.0000000e+00,\n",
       "           0.0000000e+00,  0.0000000e+00,  0.0000000e+00,\n",
       "           0.0000000e+00,  0.0000000e+00,  0.0000000e+00,\n",
       "           0.0000000e+00,  0.0000000e+00,  0.0000000e+00,\n",
       "           0.0000000e+00,  0.0000000e+00,  0.0000000e+00,\n",
       "           0.0000000e+00,  0.0000000e+00,  0.0000000e+00,\n",
       "           0.0000000e+00,  0.0000000e+00,  0.0000000e+00,\n",
       "           0.0000000e+00,  0.0000000e+00,  0.0000000e+00,\n",
       "           0.0000000e+00,  0.0000000e+00,  0.0000000e+00,\n",
       "           0.0000000e+00,  0.0000000e+00,  0.0000000e+00,\n",
       "           0.0000000e+00,  0.0000000e+00,  0.0000000e+00,\n",
       "           0.0000000e+00,  0.0000000e+00,  0.0000000e+00,\n",
       "           0.0000000e+00,  0.0000000e+00,  0.0000000e+00,\n",
       "           0.0000000e+00,  0.0000000e+00,  0.0000000e+00,\n",
       "           0.0000000e+00,  0.0000000e+00,  0.0000000e+00,\n",
       "           0.0000000e+00]]]], dtype=float32)"
      ]
     },
     "execution_count": 3,
     "metadata": {},
     "output_type": "execute_result"
    }
   ],
   "source": [
    "mem_phy = np.load(\"output.npy\")\n",
    "\n",
    "memory_map={\n",
    "    \"input\" : 0x0,\n",
    "}\n",
    "\n",
    "test = readActualData(\"input\", [1, 1, 1 , 100])\n",
    "test"
   ]
  }
 ],
 "metadata": {
  "kernelspec": {
   "display_name": "c2023",
   "language": "python",
   "name": "python3"
  },
  "language_info": {
   "codemirror_mode": {
    "name": "ipython",
    "version": 3
   },
   "file_extension": ".py",
   "mimetype": "text/x-python",
   "name": "python",
   "nbconvert_exporter": "python",
   "pygments_lexer": "ipython3",
   "version": "3.11.4"
  }
 },
 "nbformat": 4,
 "nbformat_minor": 2
}
